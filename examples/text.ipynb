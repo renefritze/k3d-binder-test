{
 "cells": [
  {
   "cell_type": "code",
   "execution_count": null,
   "metadata": {},
   "outputs": [],
   "source": [
    "import k3d\n",
    "\n",
    "plot = k3d.plot()\n",
    "plot += k3d.text('\\\\int_{-\\\\infty}^\\\\infty \\\\hat f(\\\\xi)\\\\,e^{2 \\\\pi i \\\\xi x} \\\\,d\\\\xi', \n",
    "                 [0,0,0], color=0, size=1.5, reference_point='lt')\n",
    "plot += k3d.text('{(1,1,\\\\frac{5}{\\\\pi})}', [0,0,0], color=0, size=1.5, reference_point='rb')\n",
    "plot += k3d.text('<iframe width=\"280\" height=\"155\" src=\"https://www.youtube.com/embed/i94R9xV4Q3w\"' + \n",
    "                  ' frameborder=\"0\" allow=\"accelerometer; autoplay; encrypted-media; gyroscope;' + \n",
    "                  ' picture-in-picture\" allowfullscreen></iframe>', (-1,0,0.5), color=0, is_html=True)\n",
    "\n",
    "plot.display()"
   ]
  },
  {
   "cell_type": "code",
   "execution_count": null,
   "metadata": {},
   "outputs": [],
   "source": [
    "plot.objects[0].label_box = False"
   ]
  },
  {
   "cell_type": "code",
   "execution_count": null,
   "metadata": {},
   "outputs": [],
   "source": []
  }
 ],
 "metadata": {
  "kernelspec": {
   "display_name": "Python 3",
   "language": "python",
   "name": "python3"
  },
  "language_info": {
   "codemirror_mode": {
    "name": "ipython",
    "version": 3
   },
   "file_extension": ".py",
   "mimetype": "text/x-python",
   "name": "python",
   "nbconvert_exporter": "python",
   "pygments_lexer": "ipython3",
   "version": "3.8.5"
  }
 },
 "nbformat": 4,
 "nbformat_minor": 4
}
